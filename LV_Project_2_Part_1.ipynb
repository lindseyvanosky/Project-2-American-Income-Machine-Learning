{
  "nbformat": 4,
  "nbformat_minor": 0,
  "metadata": {
    "colab": {
      "name": "LV Project 2 Part 1.ipynb",
      "provenance": [],
      "authorship_tag": "ABX9TyPVDiHPBlbheMuagzAGLtYb",
      "include_colab_link": true
    },
    "kernelspec": {
      "name": "python3",
      "display_name": "Python 3"
    },
    "language_info": {
      "name": "python"
    }
  },
  "cells": [
    {
      "cell_type": "markdown",
      "metadata": {
        "id": "view-in-github",
        "colab_type": "text"
      },
      "source": [
        "<a href=\"https://colab.research.google.com/github/lindseyvanosky/machine_learning/blob/main/LV_Project_2_Part_1.ipynb\" target=\"_parent\"><img src=\"https://colab.research.google.com/assets/colab-badge.svg\" alt=\"Open In Colab\"/></a>"
      ]
    },
    {
      "cell_type": "markdown",
      "source": [
        "##Data Set #1 - Leafly Strain Data"
      ],
      "metadata": {
        "id": "DYMLYqbNruzf"
      }
    },
    {
      "cell_type": "markdown",
      "source": [
        "###Import"
      ],
      "metadata": {
        "id": "Ked__7gPzbaz"
      }
    },
    {
      "cell_type": "code",
      "source": [
        "import pandas as pd\n",
        "from google.colab import drive\n",
        "drive.mount('/content/drive')\n",
        "#import\n",
        "leafly_data = \"/content/drive/MyDrive/Coding Dojo/02 Stack 2: Intro to Machine Learning/Data Sets/leafly_strain_data.csv\"\n",
        "leafly_df = pd.read_csv(leafly_data)\n",
        "leafly_df.head()"
      ],
      "metadata": {
        "colab": {
          "base_uri": "https://localhost:8080/",
          "height": 612
        },
        "id": "z1XMJFI-vo6K",
        "outputId": "b876fefb-9759-44c5-b5f8-2bb4c8e42833"
      },
      "execution_count": 3,
      "outputs": [
        {
          "output_type": "stream",
          "name": "stdout",
          "text": [
            "Drive already mounted at /content/drive; to attempt to forcibly remount, call drive.mount(\"/content/drive\", force_remount=True).\n"
          ]
        },
        {
          "output_type": "execute_result",
          "data": {
            "text/plain": [
              "           name                                            img_url    type  \\\n",
              "0           GG4   https://images.leafly.com/flower-images/gg-4.jpg  Hybrid   \n",
              "1  Wedding Cake  https://images.leafly.com/flower-images/weddin...  Hybrid   \n",
              "2         Runtz  https://images.leafly.com/flower-images/runtz-...  Hybrid   \n",
              "3        Gelato  https://images.leafly.com/flower-images/gelato...  Hybrid   \n",
              "4    Blue Dream  https://images.leafly.com/flower-images/blue-d...  Hybrid   \n",
              "\n",
              "  thc_level most_common_terpene  \\\n",
              "0       20%       Caryophyllene   \n",
              "1       22%            Limonene   \n",
              "2       19%            Limonene   \n",
              "3       17%       Caryophyllene   \n",
              "4       18%             Myrcene   \n",
              "\n",
              "                                         description relaxed happy euphoric  \\\n",
              "0  Original Glue (GG4), developed by GG Strains, ...     66%   54%      51%   \n",
              "1  Wedding Cake is a potent indica-hybrid marijua...     60%   50%      41%   \n",
              "2  Runtz is a rare hybrid marijuana strain by Coo...     47%   62%      48%   \n",
              "3  Gelato, aka Larry Bird, is a hybrid marijuana ...     54%   49%      46%   \n",
              "4  Blue Dream is a sativa-dominant hybrid marijua...     48%   57%      52%   \n",
              "\n",
              "  uplifted  ... fibromyalgia crohn's_disease phantom_limb_pain epilepsy  \\\n",
              "0      39%  ...           0%              0%                0%       0%   \n",
              "1      35%  ...           0%              0%                0%       0%   \n",
              "2      43%  ...           0%              0%                0%       0%   \n",
              "3      37%  ...           0%              0%                0%       0%   \n",
              "4      48%  ...           0%              0%                0%       0%   \n",
              "\n",
              "  multiple_sclerosis parkinson's tourette's_syndrome alzheimer's hiv/aids  \\\n",
              "0                 0%          0%                  0%          0%       0%   \n",
              "1                 0%          0%                  0%          0%       0%   \n",
              "2                 0%          0%                  0%          0%       0%   \n",
              "3                 0%          0%                  0%          0%       0%   \n",
              "4                 0%          0%                  0%          0%       0%   \n",
              "\n",
              "  tinnitus  \n",
              "0       0%  \n",
              "1       0%  \n",
              "2       0%  \n",
              "3       0%  \n",
              "4       0%  \n",
              "\n",
              "[5 rows x 64 columns]"
            ],
            "text/html": [
              "\n",
              "  <div id=\"df-f8bdc8eb-a446-4039-808e-c733b6034818\">\n",
              "    <div class=\"colab-df-container\">\n",
              "      <div>\n",
              "<style scoped>\n",
              "    .dataframe tbody tr th:only-of-type {\n",
              "        vertical-align: middle;\n",
              "    }\n",
              "\n",
              "    .dataframe tbody tr th {\n",
              "        vertical-align: top;\n",
              "    }\n",
              "\n",
              "    .dataframe thead th {\n",
              "        text-align: right;\n",
              "    }\n",
              "</style>\n",
              "<table border=\"1\" class=\"dataframe\">\n",
              "  <thead>\n",
              "    <tr style=\"text-align: right;\">\n",
              "      <th></th>\n",
              "      <th>name</th>\n",
              "      <th>img_url</th>\n",
              "      <th>type</th>\n",
              "      <th>thc_level</th>\n",
              "      <th>most_common_terpene</th>\n",
              "      <th>description</th>\n",
              "      <th>relaxed</th>\n",
              "      <th>happy</th>\n",
              "      <th>euphoric</th>\n",
              "      <th>uplifted</th>\n",
              "      <th>...</th>\n",
              "      <th>fibromyalgia</th>\n",
              "      <th>crohn's_disease</th>\n",
              "      <th>phantom_limb_pain</th>\n",
              "      <th>epilepsy</th>\n",
              "      <th>multiple_sclerosis</th>\n",
              "      <th>parkinson's</th>\n",
              "      <th>tourette's_syndrome</th>\n",
              "      <th>alzheimer's</th>\n",
              "      <th>hiv/aids</th>\n",
              "      <th>tinnitus</th>\n",
              "    </tr>\n",
              "  </thead>\n",
              "  <tbody>\n",
              "    <tr>\n",
              "      <th>0</th>\n",
              "      <td>GG4</td>\n",
              "      <td>https://images.leafly.com/flower-images/gg-4.jpg</td>\n",
              "      <td>Hybrid</td>\n",
              "      <td>20%</td>\n",
              "      <td>Caryophyllene</td>\n",
              "      <td>Original Glue (GG4), developed by GG Strains, ...</td>\n",
              "      <td>66%</td>\n",
              "      <td>54%</td>\n",
              "      <td>51%</td>\n",
              "      <td>39%</td>\n",
              "      <td>...</td>\n",
              "      <td>0%</td>\n",
              "      <td>0%</td>\n",
              "      <td>0%</td>\n",
              "      <td>0%</td>\n",
              "      <td>0%</td>\n",
              "      <td>0%</td>\n",
              "      <td>0%</td>\n",
              "      <td>0%</td>\n",
              "      <td>0%</td>\n",
              "      <td>0%</td>\n",
              "    </tr>\n",
              "    <tr>\n",
              "      <th>1</th>\n",
              "      <td>Wedding Cake</td>\n",
              "      <td>https://images.leafly.com/flower-images/weddin...</td>\n",
              "      <td>Hybrid</td>\n",
              "      <td>22%</td>\n",
              "      <td>Limonene</td>\n",
              "      <td>Wedding Cake is a potent indica-hybrid marijua...</td>\n",
              "      <td>60%</td>\n",
              "      <td>50%</td>\n",
              "      <td>41%</td>\n",
              "      <td>35%</td>\n",
              "      <td>...</td>\n",
              "      <td>0%</td>\n",
              "      <td>0%</td>\n",
              "      <td>0%</td>\n",
              "      <td>0%</td>\n",
              "      <td>0%</td>\n",
              "      <td>0%</td>\n",
              "      <td>0%</td>\n",
              "      <td>0%</td>\n",
              "      <td>0%</td>\n",
              "      <td>0%</td>\n",
              "    </tr>\n",
              "    <tr>\n",
              "      <th>2</th>\n",
              "      <td>Runtz</td>\n",
              "      <td>https://images.leafly.com/flower-images/runtz-...</td>\n",
              "      <td>Hybrid</td>\n",
              "      <td>19%</td>\n",
              "      <td>Limonene</td>\n",
              "      <td>Runtz is a rare hybrid marijuana strain by Coo...</td>\n",
              "      <td>47%</td>\n",
              "      <td>62%</td>\n",
              "      <td>48%</td>\n",
              "      <td>43%</td>\n",
              "      <td>...</td>\n",
              "      <td>0%</td>\n",
              "      <td>0%</td>\n",
              "      <td>0%</td>\n",
              "      <td>0%</td>\n",
              "      <td>0%</td>\n",
              "      <td>0%</td>\n",
              "      <td>0%</td>\n",
              "      <td>0%</td>\n",
              "      <td>0%</td>\n",
              "      <td>0%</td>\n",
              "    </tr>\n",
              "    <tr>\n",
              "      <th>3</th>\n",
              "      <td>Gelato</td>\n",
              "      <td>https://images.leafly.com/flower-images/gelato...</td>\n",
              "      <td>Hybrid</td>\n",
              "      <td>17%</td>\n",
              "      <td>Caryophyllene</td>\n",
              "      <td>Gelato, aka Larry Bird, is a hybrid marijuana ...</td>\n",
              "      <td>54%</td>\n",
              "      <td>49%</td>\n",
              "      <td>46%</td>\n",
              "      <td>37%</td>\n",
              "      <td>...</td>\n",
              "      <td>0%</td>\n",
              "      <td>0%</td>\n",
              "      <td>0%</td>\n",
              "      <td>0%</td>\n",
              "      <td>0%</td>\n",
              "      <td>0%</td>\n",
              "      <td>0%</td>\n",
              "      <td>0%</td>\n",
              "      <td>0%</td>\n",
              "      <td>0%</td>\n",
              "    </tr>\n",
              "    <tr>\n",
              "      <th>4</th>\n",
              "      <td>Blue Dream</td>\n",
              "      <td>https://images.leafly.com/flower-images/blue-d...</td>\n",
              "      <td>Hybrid</td>\n",
              "      <td>18%</td>\n",
              "      <td>Myrcene</td>\n",
              "      <td>Blue Dream is a sativa-dominant hybrid marijua...</td>\n",
              "      <td>48%</td>\n",
              "      <td>57%</td>\n",
              "      <td>52%</td>\n",
              "      <td>48%</td>\n",
              "      <td>...</td>\n",
              "      <td>0%</td>\n",
              "      <td>0%</td>\n",
              "      <td>0%</td>\n",
              "      <td>0%</td>\n",
              "      <td>0%</td>\n",
              "      <td>0%</td>\n",
              "      <td>0%</td>\n",
              "      <td>0%</td>\n",
              "      <td>0%</td>\n",
              "      <td>0%</td>\n",
              "    </tr>\n",
              "  </tbody>\n",
              "</table>\n",
              "<p>5 rows × 64 columns</p>\n",
              "</div>\n",
              "      <button class=\"colab-df-convert\" onclick=\"convertToInteractive('df-f8bdc8eb-a446-4039-808e-c733b6034818')\"\n",
              "              title=\"Convert this dataframe to an interactive table.\"\n",
              "              style=\"display:none;\">\n",
              "        \n",
              "  <svg xmlns=\"http://www.w3.org/2000/svg\" height=\"24px\"viewBox=\"0 0 24 24\"\n",
              "       width=\"24px\">\n",
              "    <path d=\"M0 0h24v24H0V0z\" fill=\"none\"/>\n",
              "    <path d=\"M18.56 5.44l.94 2.06.94-2.06 2.06-.94-2.06-.94-.94-2.06-.94 2.06-2.06.94zm-11 1L8.5 8.5l.94-2.06 2.06-.94-2.06-.94L8.5 2.5l-.94 2.06-2.06.94zm10 10l.94 2.06.94-2.06 2.06-.94-2.06-.94-.94-2.06-.94 2.06-2.06.94z\"/><path d=\"M17.41 7.96l-1.37-1.37c-.4-.4-.92-.59-1.43-.59-.52 0-1.04.2-1.43.59L10.3 9.45l-7.72 7.72c-.78.78-.78 2.05 0 2.83L4 21.41c.39.39.9.59 1.41.59.51 0 1.02-.2 1.41-.59l7.78-7.78 2.81-2.81c.8-.78.8-2.07 0-2.86zM5.41 20L4 18.59l7.72-7.72 1.47 1.35L5.41 20z\"/>\n",
              "  </svg>\n",
              "      </button>\n",
              "      \n",
              "  <style>\n",
              "    .colab-df-container {\n",
              "      display:flex;\n",
              "      flex-wrap:wrap;\n",
              "      gap: 12px;\n",
              "    }\n",
              "\n",
              "    .colab-df-convert {\n",
              "      background-color: #E8F0FE;\n",
              "      border: none;\n",
              "      border-radius: 50%;\n",
              "      cursor: pointer;\n",
              "      display: none;\n",
              "      fill: #1967D2;\n",
              "      height: 32px;\n",
              "      padding: 0 0 0 0;\n",
              "      width: 32px;\n",
              "    }\n",
              "\n",
              "    .colab-df-convert:hover {\n",
              "      background-color: #E2EBFA;\n",
              "      box-shadow: 0px 1px 2px rgba(60, 64, 67, 0.3), 0px 1px 3px 1px rgba(60, 64, 67, 0.15);\n",
              "      fill: #174EA6;\n",
              "    }\n",
              "\n",
              "    [theme=dark] .colab-df-convert {\n",
              "      background-color: #3B4455;\n",
              "      fill: #D2E3FC;\n",
              "    }\n",
              "\n",
              "    [theme=dark] .colab-df-convert:hover {\n",
              "      background-color: #434B5C;\n",
              "      box-shadow: 0px 1px 3px 1px rgba(0, 0, 0, 0.15);\n",
              "      filter: drop-shadow(0px 1px 2px rgba(0, 0, 0, 0.3));\n",
              "      fill: #FFFFFF;\n",
              "    }\n",
              "  </style>\n",
              "\n",
              "      <script>\n",
              "        const buttonEl =\n",
              "          document.querySelector('#df-f8bdc8eb-a446-4039-808e-c733b6034818 button.colab-df-convert');\n",
              "        buttonEl.style.display =\n",
              "          google.colab.kernel.accessAllowed ? 'block' : 'none';\n",
              "\n",
              "        async function convertToInteractive(key) {\n",
              "          const element = document.querySelector('#df-f8bdc8eb-a446-4039-808e-c733b6034818');\n",
              "          const dataTable =\n",
              "            await google.colab.kernel.invokeFunction('convertToInteractive',\n",
              "                                                     [key], {});\n",
              "          if (!dataTable) return;\n",
              "\n",
              "          const docLinkHtml = 'Like what you see? Visit the ' +\n",
              "            '<a target=\"_blank\" href=https://colab.research.google.com/notebooks/data_table.ipynb>data table notebook</a>'\n",
              "            + ' to learn more about interactive tables.';\n",
              "          element.innerHTML = '';\n",
              "          dataTable['output_type'] = 'display_data';\n",
              "          await google.colab.output.renderOutput(dataTable, element);\n",
              "          const docLink = document.createElement('div');\n",
              "          docLink.innerHTML = docLinkHtml;\n",
              "          element.appendChild(docLink);\n",
              "        }\n",
              "      </script>\n",
              "    </div>\n",
              "  </div>\n",
              "  "
            ]
          },
          "metadata": {},
          "execution_count": 3
        }
      ]
    },
    {
      "cell_type": "markdown",
      "source": [
        "###Info"
      ],
      "metadata": {
        "id": "5VYzQYCdzSTd"
      }
    },
    {
      "cell_type": "code",
      "source": [
        "leafly_df.info()"
      ],
      "metadata": {
        "colab": {
          "base_uri": "https://localhost:8080/"
        },
        "id": "GKH9FEUqxgEW",
        "outputId": "8ac87935-a943-4092-8e38-1ab295ee0ab6"
      },
      "execution_count": 4,
      "outputs": [
        {
          "output_type": "stream",
          "name": "stdout",
          "text": [
            "<class 'pandas.core.frame.DataFrame'>\n",
            "RangeIndex: 4762 entries, 0 to 4761\n",
            "Data columns (total 64 columns):\n",
            " #   Column                     Non-Null Count  Dtype \n",
            "---  ------                     --------------  ----- \n",
            " 0   name                       4762 non-null   object\n",
            " 1   img_url                    98 non-null     object\n",
            " 2   type                       4107 non-null   object\n",
            " 3   thc_level                  2735 non-null   object\n",
            " 4   most_common_terpene        2447 non-null   object\n",
            " 5   description                4727 non-null   object\n",
            " 6   relaxed                    4762 non-null   object\n",
            " 7   happy                      4762 non-null   object\n",
            " 8   euphoric                   4762 non-null   object\n",
            " 9   uplifted                   4762 non-null   object\n",
            " 10  sleepy                     4762 non-null   object\n",
            " 11  dry_mouth                  4762 non-null   object\n",
            " 12  dry_eyes                   4762 non-null   object\n",
            " 13  dizzy                      4762 non-null   object\n",
            " 14  paranoid                   4762 non-null   object\n",
            " 15  anxious                    4762 non-null   object\n",
            " 16  stress                     4762 non-null   object\n",
            " 17  pain                       4762 non-null   object\n",
            " 18  depression                 4762 non-null   object\n",
            " 19  anxiety                    4762 non-null   object\n",
            " 20  insomnia                   4762 non-null   object\n",
            " 21  hungry                     4762 non-null   object\n",
            " 22  talkative                  4762 non-null   object\n",
            " 23  headache                   4762 non-null   object\n",
            " 24  ptsd                       4762 non-null   object\n",
            " 25  creative                   4762 non-null   object\n",
            " 26  energetic                  4762 non-null   object\n",
            " 27  fatigue                    4762 non-null   object\n",
            " 28  focused                    4762 non-null   object\n",
            " 29  giggly                     4762 non-null   object\n",
            " 30  lack_of_appetite           4762 non-null   object\n",
            " 31  nausea                     4762 non-null   object\n",
            " 32  headaches                  4762 non-null   object\n",
            " 33  bipolar_disorder           4762 non-null   object\n",
            " 34  cancer                     4762 non-null   object\n",
            " 35  tingly                     4762 non-null   object\n",
            " 36  cramps                     4762 non-null   object\n",
            " 37  aroused                    4762 non-null   object\n",
            " 38  gastrointestinal_disorder  4762 non-null   object\n",
            " 39  inflammation               4762 non-null   object\n",
            " 40  muscle_spasms              4762 non-null   object\n",
            " 41  eye_pressure               4762 non-null   object\n",
            " 42  migraines                  4762 non-null   object\n",
            " 43  asthma                     4762 non-null   object\n",
            " 44  anorexia                   4762 non-null   object\n",
            " 45  arthritis                  4762 non-null   object\n",
            " 46  add/adhd                   4762 non-null   object\n",
            " 47  muscular_dystrophy         4762 non-null   object\n",
            " 48  hypertension               4762 non-null   object\n",
            " 49  glaucoma                   4762 non-null   object\n",
            " 50  pms                        4762 non-null   object\n",
            " 51  seizures                   4762 non-null   object\n",
            " 52  spasticity                 4762 non-null   object\n",
            " 53  spinal_cord_injury         4762 non-null   object\n",
            " 54  fibromyalgia               4762 non-null   object\n",
            " 55  crohn's_disease            4762 non-null   object\n",
            " 56  phantom_limb_pain          4762 non-null   object\n",
            " 57  epilepsy                   4762 non-null   object\n",
            " 58  multiple_sclerosis         4762 non-null   object\n",
            " 59  parkinson's                4762 non-null   object\n",
            " 60  tourette's_syndrome        4762 non-null   object\n",
            " 61  alzheimer's                4762 non-null   object\n",
            " 62  hiv/aids                   4762 non-null   object\n",
            " 63  tinnitus                   4762 non-null   object\n",
            "dtypes: object(64)\n",
            "memory usage: 2.3+ MB\n"
          ]
        }
      ]
    },
    {
      "cell_type": "markdown",
      "source": [
        "###Questions"
      ],
      "metadata": {
        "id": "USS6wokJzVe-"
      }
    },
    {
      "cell_type": "markdown",
      "source": [
        "Source: [Kaggle.](https://www.kaggle.com/datasets/gthrosa/leafly-cannabis-strains-metadata) This data set is public domain."
      ],
      "metadata": {
        "id": "76kv_T8qr4JB"
      }
    },
    {
      "cell_type": "markdown",
      "source": [
        "Description: This data set is a complete list of cannabis strains and various attributes. "
      ],
      "metadata": {
        "id": "UGbCSdwXr6IL"
      }
    },
    {
      "cell_type": "markdown",
      "source": [
        "Target: I'd like to investigate two targets: THC % and type."
      ],
      "metadata": {
        "id": "rwoutrHBr9lu"
      }
    },
    {
      "cell_type": "markdown",
      "source": [
        "Classification or Regression? I'd like to run both as I would use a regression model to predict THC % and I would use a Classisfication model to determine a strain type (sativa, hybrid, indica)"
      ],
      "metadata": {
        "id": "dtPJzHyvuyhe"
      }
    },
    {
      "cell_type": "markdown",
      "source": [
        "Features: 4, most common terpene, type, thc level, description(effects)"
      ],
      "metadata": {
        "id": "nw0oEnT4u6R9"
      }
    },
    {
      "cell_type": "markdown",
      "source": [
        "How many rows? 4762"
      ],
      "metadata": {
        "id": "5s18vR0lu8dn"
      }
    },
    {
      "cell_type": "markdown",
      "source": [
        "Potential Challenges: One potential challenge with this data set is that there is a lot of overlap of terpenes and effects between strains. Additionally all of the dtypes are objects, so OHE could make this data set too large. "
      ],
      "metadata": {
        "id": "NOSCEe2Zu_Bt"
      }
    },
    {
      "cell_type": "markdown",
      "source": [
        "##Data Set #2 - American Demographics"
      ],
      "metadata": {
        "id": "sSCutMffryRc"
      }
    },
    {
      "cell_type": "markdown",
      "source": [
        "###Import"
      ],
      "metadata": {
        "id": "Yr4iJb4m0eqP"
      }
    },
    {
      "cell_type": "code",
      "source": [
        "#import\n",
        "census_data = \"/content/drive/MyDrive/Coding Dojo/02 Stack 2: Intro to Machine Learning/Data Sets/adult.data\"\n",
        "census_df = pd.read_csv(census_data, header = None)\n",
        "census_df.head()"
      ],
      "metadata": {
        "colab": {
          "base_uri": "https://localhost:8080/",
          "height": 409
        },
        "id": "46MaMz67r0Gx",
        "outputId": "63cd1389-c792-4b5c-dbd8-ccaad94e477c"
      },
      "execution_count": 8,
      "outputs": [
        {
          "output_type": "execute_result",
          "data": {
            "text/plain": [
              "   0                  1       2           3   4                    5   \\\n",
              "0  39          State-gov   77516   Bachelors  13        Never-married   \n",
              "1  50   Self-emp-not-inc   83311   Bachelors  13   Married-civ-spouse   \n",
              "2  38            Private  215646     HS-grad   9             Divorced   \n",
              "3  53            Private  234721        11th   7   Married-civ-spouse   \n",
              "4  28            Private  338409   Bachelors  13   Married-civ-spouse   \n",
              "\n",
              "                   6               7       8        9     10  11  12  \\\n",
              "0        Adm-clerical   Not-in-family   White     Male  2174   0  40   \n",
              "1     Exec-managerial         Husband   White     Male     0   0  13   \n",
              "2   Handlers-cleaners   Not-in-family   White     Male     0   0  40   \n",
              "3   Handlers-cleaners         Husband   Black     Male     0   0  40   \n",
              "4      Prof-specialty            Wife   Black   Female     0   0  40   \n",
              "\n",
              "               13      14  \n",
              "0   United-States   <=50K  \n",
              "1   United-States   <=50K  \n",
              "2   United-States   <=50K  \n",
              "3   United-States   <=50K  \n",
              "4            Cuba   <=50K  "
            ],
            "text/html": [
              "\n",
              "  <div id=\"df-6c651fc3-bee3-4991-bff2-d8b19c654acc\">\n",
              "    <div class=\"colab-df-container\">\n",
              "      <div>\n",
              "<style scoped>\n",
              "    .dataframe tbody tr th:only-of-type {\n",
              "        vertical-align: middle;\n",
              "    }\n",
              "\n",
              "    .dataframe tbody tr th {\n",
              "        vertical-align: top;\n",
              "    }\n",
              "\n",
              "    .dataframe thead th {\n",
              "        text-align: right;\n",
              "    }\n",
              "</style>\n",
              "<table border=\"1\" class=\"dataframe\">\n",
              "  <thead>\n",
              "    <tr style=\"text-align: right;\">\n",
              "      <th></th>\n",
              "      <th>0</th>\n",
              "      <th>1</th>\n",
              "      <th>2</th>\n",
              "      <th>3</th>\n",
              "      <th>4</th>\n",
              "      <th>5</th>\n",
              "      <th>6</th>\n",
              "      <th>7</th>\n",
              "      <th>8</th>\n",
              "      <th>9</th>\n",
              "      <th>10</th>\n",
              "      <th>11</th>\n",
              "      <th>12</th>\n",
              "      <th>13</th>\n",
              "      <th>14</th>\n",
              "    </tr>\n",
              "  </thead>\n",
              "  <tbody>\n",
              "    <tr>\n",
              "      <th>0</th>\n",
              "      <td>39</td>\n",
              "      <td>State-gov</td>\n",
              "      <td>77516</td>\n",
              "      <td>Bachelors</td>\n",
              "      <td>13</td>\n",
              "      <td>Never-married</td>\n",
              "      <td>Adm-clerical</td>\n",
              "      <td>Not-in-family</td>\n",
              "      <td>White</td>\n",
              "      <td>Male</td>\n",
              "      <td>2174</td>\n",
              "      <td>0</td>\n",
              "      <td>40</td>\n",
              "      <td>United-States</td>\n",
              "      <td>&lt;=50K</td>\n",
              "    </tr>\n",
              "    <tr>\n",
              "      <th>1</th>\n",
              "      <td>50</td>\n",
              "      <td>Self-emp-not-inc</td>\n",
              "      <td>83311</td>\n",
              "      <td>Bachelors</td>\n",
              "      <td>13</td>\n",
              "      <td>Married-civ-spouse</td>\n",
              "      <td>Exec-managerial</td>\n",
              "      <td>Husband</td>\n",
              "      <td>White</td>\n",
              "      <td>Male</td>\n",
              "      <td>0</td>\n",
              "      <td>0</td>\n",
              "      <td>13</td>\n",
              "      <td>United-States</td>\n",
              "      <td>&lt;=50K</td>\n",
              "    </tr>\n",
              "    <tr>\n",
              "      <th>2</th>\n",
              "      <td>38</td>\n",
              "      <td>Private</td>\n",
              "      <td>215646</td>\n",
              "      <td>HS-grad</td>\n",
              "      <td>9</td>\n",
              "      <td>Divorced</td>\n",
              "      <td>Handlers-cleaners</td>\n",
              "      <td>Not-in-family</td>\n",
              "      <td>White</td>\n",
              "      <td>Male</td>\n",
              "      <td>0</td>\n",
              "      <td>0</td>\n",
              "      <td>40</td>\n",
              "      <td>United-States</td>\n",
              "      <td>&lt;=50K</td>\n",
              "    </tr>\n",
              "    <tr>\n",
              "      <th>3</th>\n",
              "      <td>53</td>\n",
              "      <td>Private</td>\n",
              "      <td>234721</td>\n",
              "      <td>11th</td>\n",
              "      <td>7</td>\n",
              "      <td>Married-civ-spouse</td>\n",
              "      <td>Handlers-cleaners</td>\n",
              "      <td>Husband</td>\n",
              "      <td>Black</td>\n",
              "      <td>Male</td>\n",
              "      <td>0</td>\n",
              "      <td>0</td>\n",
              "      <td>40</td>\n",
              "      <td>United-States</td>\n",
              "      <td>&lt;=50K</td>\n",
              "    </tr>\n",
              "    <tr>\n",
              "      <th>4</th>\n",
              "      <td>28</td>\n",
              "      <td>Private</td>\n",
              "      <td>338409</td>\n",
              "      <td>Bachelors</td>\n",
              "      <td>13</td>\n",
              "      <td>Married-civ-spouse</td>\n",
              "      <td>Prof-specialty</td>\n",
              "      <td>Wife</td>\n",
              "      <td>Black</td>\n",
              "      <td>Female</td>\n",
              "      <td>0</td>\n",
              "      <td>0</td>\n",
              "      <td>40</td>\n",
              "      <td>Cuba</td>\n",
              "      <td>&lt;=50K</td>\n",
              "    </tr>\n",
              "  </tbody>\n",
              "</table>\n",
              "</div>\n",
              "      <button class=\"colab-df-convert\" onclick=\"convertToInteractive('df-6c651fc3-bee3-4991-bff2-d8b19c654acc')\"\n",
              "              title=\"Convert this dataframe to an interactive table.\"\n",
              "              style=\"display:none;\">\n",
              "        \n",
              "  <svg xmlns=\"http://www.w3.org/2000/svg\" height=\"24px\"viewBox=\"0 0 24 24\"\n",
              "       width=\"24px\">\n",
              "    <path d=\"M0 0h24v24H0V0z\" fill=\"none\"/>\n",
              "    <path d=\"M18.56 5.44l.94 2.06.94-2.06 2.06-.94-2.06-.94-.94-2.06-.94 2.06-2.06.94zm-11 1L8.5 8.5l.94-2.06 2.06-.94-2.06-.94L8.5 2.5l-.94 2.06-2.06.94zm10 10l.94 2.06.94-2.06 2.06-.94-2.06-.94-.94-2.06-.94 2.06-2.06.94z\"/><path d=\"M17.41 7.96l-1.37-1.37c-.4-.4-.92-.59-1.43-.59-.52 0-1.04.2-1.43.59L10.3 9.45l-7.72 7.72c-.78.78-.78 2.05 0 2.83L4 21.41c.39.39.9.59 1.41.59.51 0 1.02-.2 1.41-.59l7.78-7.78 2.81-2.81c.8-.78.8-2.07 0-2.86zM5.41 20L4 18.59l7.72-7.72 1.47 1.35L5.41 20z\"/>\n",
              "  </svg>\n",
              "      </button>\n",
              "      \n",
              "  <style>\n",
              "    .colab-df-container {\n",
              "      display:flex;\n",
              "      flex-wrap:wrap;\n",
              "      gap: 12px;\n",
              "    }\n",
              "\n",
              "    .colab-df-convert {\n",
              "      background-color: #E8F0FE;\n",
              "      border: none;\n",
              "      border-radius: 50%;\n",
              "      cursor: pointer;\n",
              "      display: none;\n",
              "      fill: #1967D2;\n",
              "      height: 32px;\n",
              "      padding: 0 0 0 0;\n",
              "      width: 32px;\n",
              "    }\n",
              "\n",
              "    .colab-df-convert:hover {\n",
              "      background-color: #E2EBFA;\n",
              "      box-shadow: 0px 1px 2px rgba(60, 64, 67, 0.3), 0px 1px 3px 1px rgba(60, 64, 67, 0.15);\n",
              "      fill: #174EA6;\n",
              "    }\n",
              "\n",
              "    [theme=dark] .colab-df-convert {\n",
              "      background-color: #3B4455;\n",
              "      fill: #D2E3FC;\n",
              "    }\n",
              "\n",
              "    [theme=dark] .colab-df-convert:hover {\n",
              "      background-color: #434B5C;\n",
              "      box-shadow: 0px 1px 3px 1px rgba(0, 0, 0, 0.15);\n",
              "      filter: drop-shadow(0px 1px 2px rgba(0, 0, 0, 0.3));\n",
              "      fill: #FFFFFF;\n",
              "    }\n",
              "  </style>\n",
              "\n",
              "      <script>\n",
              "        const buttonEl =\n",
              "          document.querySelector('#df-6c651fc3-bee3-4991-bff2-d8b19c654acc button.colab-df-convert');\n",
              "        buttonEl.style.display =\n",
              "          google.colab.kernel.accessAllowed ? 'block' : 'none';\n",
              "\n",
              "        async function convertToInteractive(key) {\n",
              "          const element = document.querySelector('#df-6c651fc3-bee3-4991-bff2-d8b19c654acc');\n",
              "          const dataTable =\n",
              "            await google.colab.kernel.invokeFunction('convertToInteractive',\n",
              "                                                     [key], {});\n",
              "          if (!dataTable) return;\n",
              "\n",
              "          const docLinkHtml = 'Like what you see? Visit the ' +\n",
              "            '<a target=\"_blank\" href=https://colab.research.google.com/notebooks/data_table.ipynb>data table notebook</a>'\n",
              "            + ' to learn more about interactive tables.';\n",
              "          element.innerHTML = '';\n",
              "          dataTable['output_type'] = 'display_data';\n",
              "          await google.colab.output.renderOutput(dataTable, element);\n",
              "          const docLink = document.createElement('div');\n",
              "          docLink.innerHTML = docLinkHtml;\n",
              "          element.appendChild(docLink);\n",
              "        }\n",
              "      </script>\n",
              "    </div>\n",
              "  </div>\n",
              "  "
            ]
          },
          "metadata": {},
          "execution_count": 8
        }
      ]
    },
    {
      "cell_type": "markdown",
      "source": [
        "###Info"
      ],
      "metadata": {
        "id": "pFc2tOOt0g1R"
      }
    },
    {
      "cell_type": "code",
      "source": [
        "census_df.info()"
      ],
      "metadata": {
        "colab": {
          "base_uri": "https://localhost:8080/"
        },
        "id": "Vy8wQiktzM5x",
        "outputId": "d180da6a-b683-44f3-d33a-c0183feb6108"
      },
      "execution_count": 7,
      "outputs": [
        {
          "output_type": "stream",
          "name": "stdout",
          "text": [
            "<class 'pandas.core.frame.DataFrame'>\n",
            "RangeIndex: 32560 entries, 0 to 32559\n",
            "Data columns (total 15 columns):\n",
            " #   Column          Non-Null Count  Dtype \n",
            "---  ------          --------------  ----- \n",
            " 0   39              32560 non-null  int64 \n",
            " 1    State-gov      32560 non-null  object\n",
            " 2    77516          32560 non-null  int64 \n",
            " 3    Bachelors      32560 non-null  object\n",
            " 4    13             32560 non-null  int64 \n",
            " 5    Never-married  32560 non-null  object\n",
            " 6    Adm-clerical   32560 non-null  object\n",
            " 7    Not-in-family  32560 non-null  object\n",
            " 8    White          32560 non-null  object\n",
            " 9    Male           32560 non-null  object\n",
            " 10   2174           32560 non-null  int64 \n",
            " 11   0              32560 non-null  int64 \n",
            " 12   40             32560 non-null  int64 \n",
            " 13   United-States  32560 non-null  object\n",
            " 14   <=50K          32560 non-null  object\n",
            "dtypes: int64(6), object(9)\n",
            "memory usage: 3.7+ MB\n"
          ]
        }
      ]
    },
    {
      "cell_type": "markdown",
      "source": [
        "###Questions"
      ],
      "metadata": {
        "id": "ael1b2cO0jhi"
      }
    },
    {
      "cell_type": "markdown",
      "source": [
        "Source: [Kaggle](https://www.kaggle.com/datasets/danielbethell/adult-incomes-in-the-united-states?select=adult.names)\n",
        "<br>\n",
        "This data was extracted from the census bureau [database.](http://www.census.gov/ftp/pub/DES/www/welcome.html)"
      ],
      "metadata": {
        "id": "CIjpL-bivR97"
      }
    },
    {
      "cell_type": "markdown",
      "source": [
        "Description: This data set contains demographics on the American people in order to determine if they make more that $50K\n",
        "\n"
      ],
      "metadata": {
        "id": "fLAt-LRovTYs"
      }
    },
    {
      "cell_type": "markdown",
      "source": [
        "Target: Income"
      ],
      "metadata": {
        "id": "-IqFgBvbvVS0"
      }
    },
    {
      "cell_type": "markdown",
      "source": [
        "Classification or Regression? Regression! "
      ],
      "metadata": {
        "id": "or9iF0P0vWsS"
      }
    },
    {
      "cell_type": "markdown",
      "source": [
        "Features: Age, Sex, Education, Job Type, Family, Race"
      ],
      "metadata": {
        "id": "OkH1MbKWvZmS"
      }
    },
    {
      "cell_type": "markdown",
      "source": [
        "How many rows? 32560"
      ],
      "metadata": {
        "id": "BPnWoi9svcLq"
      }
    },
    {
      "cell_type": "markdown",
      "source": [
        "Potential Challenges: One challenge I see with this data set is that it does not have a header, so we will have to rename each column to make it make sense. "
      ],
      "metadata": {
        "id": "SuPzu_OSvfzp"
      }
    }
  ]
}